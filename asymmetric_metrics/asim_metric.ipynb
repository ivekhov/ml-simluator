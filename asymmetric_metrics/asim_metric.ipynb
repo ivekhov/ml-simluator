{
 "cells": [
  {
   "cell_type": "code",
   "execution_count": 1,
   "id": "d9e12b04-d083-4050-ab46-b3ac3bd5ce34",
   "metadata": {},
   "outputs": [],
   "source": [
    "import numpy as np"
   ]
  },
  {
   "cell_type": "code",
   "execution_count": 5,
   "id": "61fcbc1f-5cb0-4529-9a3b-5e9e57911e96",
   "metadata": {},
   "outputs": [],
   "source": [
    "y_true = np.array([1, 2, 42, 55, 0, 99])\n",
    "y_pred = np.array([10, 0, 42, 50, 10, 199])\n",
    "\n"
   ]
  },
  {
   "cell_type": "code",
   "execution_count": 11,
   "id": "662b7580-6280-4a01-87b9-2663e3ca2f63",
   "metadata": {},
   "outputs": [
    {
     "data": {
      "text/plain": [
       "24.666666666666668"
      ]
     },
     "execution_count": 11,
     "metadata": {},
     "output_type": "execute_result"
    }
   ],
   "source": [
    "np.mean(\n",
    "    np.where(\n",
    "        y_pred >= y_true, \n",
    "        np.abs(y_true - y_pred), \n",
    "        np.abs(y_true - y_pred) ** 2,     \n",
    "    )\n",
    ")"
   ]
  },
  {
   "cell_type": "code",
   "execution_count": null,
   "id": "1d6f6e03-b3b7-435e-b98b-7ab48619246b",
   "metadata": {},
   "outputs": [],
   "source": [
    "np.mean(\n",
    "    np.where(\n",
    "        y_pred >= y_true, \n",
    "        np.abs(y_true - y_pred), \n",
    "        np.abs(y_true - y_pred) ** 2,     \n",
    "    )\n",
    ")"
   ]
  },
  {
   "cell_type": "code",
   "execution_count": 6,
   "id": "a125ad23-786d-4aa2-924b-e78479a880cd",
   "metadata": {},
   "outputs": [
    {
     "data": {
      "text/plain": [
       "array([ 11,   0,   2,   7,   8, 102])"
      ]
     },
     "execution_count": 6,
     "metadata": {},
     "output_type": "execute_result"
    }
   ],
   "source": [
    "np.abs(y_true - y_pred) ^ 2"
   ]
  },
  {
   "cell_type": "code",
   "execution_count": 9,
   "id": "500380ba-8534-41e5-ae48-5619ff0aa052",
   "metadata": {},
   "outputs": [
    {
     "data": {
      "text/plain": [
       "array([0.    , 0.0625, 0.25  , 0.5625, 1.    ])"
      ]
     },
     "execution_count": 9,
     "metadata": {},
     "output_type": "execute_result"
    }
   ],
   "source": [
    "np.abs([0, 0.25, 0.5, 0.75, 1]) ** 2"
   ]
  },
  {
   "cell_type": "code",
   "execution_count": null,
   "id": "5de8ed9c-48b9-4f05-952e-b2e6626bc940",
   "metadata": {},
   "outputs": [],
   "source": []
  }
 ],
 "metadata": {
  "kernelspec": {
   "display_name": "Python 3 (ipykernel)",
   "language": "python",
   "name": "python3"
  },
  "language_info": {
   "codemirror_mode": {
    "name": "ipython",
    "version": 3
   },
   "file_extension": ".py",
   "mimetype": "text/x-python",
   "name": "python",
   "nbconvert_exporter": "python",
   "pygments_lexer": "ipython3",
   "version": "3.8.2"
  }
 },
 "nbformat": 4,
 "nbformat_minor": 5
}
