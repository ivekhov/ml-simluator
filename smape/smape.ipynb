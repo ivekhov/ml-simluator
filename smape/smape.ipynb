{
 "cells": [
  {
   "cell_type": "code",
   "execution_count": 1,
   "id": "c0c4ef21-66f3-49b0-ba0e-865334462da1",
   "metadata": {},
   "outputs": [],
   "source": [
    "import numpy as np"
   ]
  },
  {
   "cell_type": "code",
   "execution_count": 139,
   "id": "359bb045-e729-40ed-bac5-06dc297086b9",
   "metadata": {},
   "outputs": [],
   "source": [
    "y_true = np.array(\n",
    "    [10, 10, 0, 0, -1, -3] #0.5, 0.2\n",
    ")\n",
    "\n",
    "y_pred = np.array(\n",
    "    [0, 11, 10, 0, -0.5, 2.5] # 50, 20\n",
    ")"
   ]
  },
  {
   "cell_type": "code",
   "execution_count": 140,
   "id": "6ccae04b-483c-424e-bede-f1852dd5e09b",
   "metadata": {},
   "outputs": [
    {
     "name": "stdout",
     "output_type": "stream",
     "text": [
      "nan\n"
     ]
    },
    {
     "name": "stderr",
     "output_type": "stream",
     "text": [
      "/var/folders/2g/vm02gnkd7nd3lzt5qcby6t7r0000gn/T/ipykernel_17165/4290492041.py:6: RuntimeWarning: invalid value encountered in divide\n",
      "  return np.mean(np.abs(y_pred - y_true) * 2 / (np.abs(y_pred) + np.abs(y_true)))\n"
     ]
    }
   ],
   "source": [
    "# exclude when in divider two zeros\n",
    "\n",
    "\n",
    "def smape(y_true: np.array, y_pred: np.array) -> float:\n",
    "    \"\"\"Description of function.\"\"\"\n",
    "    return np.mean(np.abs(y_pred - y_true) * 2 / (np.abs(y_pred) + np.abs(y_true)))\n",
    "\n",
    "\n",
    "print(smape(y_true, y_pred))"
   ]
  },
  {
   "cell_type": "code",
   "execution_count": null,
   "id": "ea220350-0a40-44dd-a6c7-6cdfe037e607",
   "metadata": {},
   "outputs": [],
   "source": [
    "\n"
   ]
  },
  {
   "cell_type": "code",
   "execution_count": 141,
   "id": "9867f64f-0bc2-4303-bddc-cd1620ab3e38",
   "metadata": {},
   "outputs": [
    {
     "name": "stdout",
     "output_type": "stream",
     "text": [
      "1.126984126984127\n"
     ]
    }
   ],
   "source": [
    "# exclude when in divider two zeros\n",
    "\n",
    "\n",
    "def smape(y_true: np.array, y_pred: np.array) -> float:\n",
    "    \"\"\"Description of function.\"\"\"\n",
    "    return np.mean(\n",
    "        np.abs(y_pred - y_true) * 2 / \n",
    "        np.where(\n",
    "            (np.abs(y_pred) + np.abs(y_true)) == 0, \n",
    "            0.0001, \n",
    "            np.abs(y_pred) + np.abs(y_true))\n",
    ")\n",
    "\n",
    "\n",
    "print(smape(y_true, y_pred))"
   ]
  },
  {
   "cell_type": "code",
   "execution_count": 131,
   "id": "f2a56af1-5d90-4f40-be33-794e4b56cae7",
   "metadata": {},
   "outputs": [
    {
     "data": {
      "text/plain": [
       "array([1.0e+01, 2.1e+01, 1.0e+01, 1.0e-02])"
      ]
     },
     "execution_count": 131,
     "metadata": {},
     "output_type": "execute_result"
    }
   ],
   "source": [
    "np.where((np.abs(y_pred) + np.abs(y_true)) == 0, 0.01, np.abs(y_pred) + np.abs(y_true))\n",
    "\n",
    "\n"
   ]
  },
  {
   "cell_type": "code",
   "execution_count": 116,
   "id": "4e26c1bc-9b28-45f3-80c4-b18dcf380628",
   "metadata": {},
   "outputs": [
    {
     "data": {
      "text/plain": [
       "array([False, False,  True,  True])"
      ]
     },
     "execution_count": 116,
     "metadata": {},
     "output_type": "execute_result"
    }
   ],
   "source": [
    "y_true == 0"
   ]
  },
  {
   "cell_type": "code",
   "execution_count": 118,
   "id": "191358b8-99a6-4ca8-8bc1-756c3b05335a",
   "metadata": {},
   "outputs": [
    {
     "data": {
      "text/plain": [
       "array([0, 0])"
      ]
     },
     "execution_count": 118,
     "metadata": {},
     "output_type": "execute_result"
    }
   ],
   "source": [
    "y_true[y_true == 0]"
   ]
  },
  {
   "cell_type": "code",
   "execution_count": 117,
   "id": "1d171ef4-4476-4af5-8c19-d37c9d1f85ca",
   "metadata": {},
   "outputs": [
    {
     "data": {
      "text/plain": [
       "array([ True, False, False,  True])"
      ]
     },
     "execution_count": 117,
     "metadata": {},
     "output_type": "execute_result"
    }
   ],
   "source": [
    "y_pred == 0"
   ]
  },
  {
   "cell_type": "code",
   "execution_count": 124,
   "id": "7c2f2aeb-5634-4e04-9bab-a5ddad14f9d4",
   "metadata": {},
   "outputs": [
    {
     "data": {
      "text/plain": [
       "array([False, False, False,  True])"
      ]
     },
     "execution_count": 124,
     "metadata": {},
     "output_type": "execute_result"
    }
   ],
   "source": [
    "# mask with conditions boolean\n",
    "\n",
    "\n",
    "mask = ((y_true == 0) & (y_pred == 0))\n",
    "mask"
   ]
  },
  {
   "cell_type": "code",
   "execution_count": 125,
   "id": "794166dc-38ac-47c7-bb21-fd7816f187e5",
   "metadata": {},
   "outputs": [
    {
     "data": {
      "text/plain": [
       "array([0])"
      ]
     },
     "execution_count": 125,
     "metadata": {},
     "output_type": "execute_result"
    }
   ],
   "source": [
    "y_true[mask]"
   ]
  },
  {
   "cell_type": "code",
   "execution_count": 126,
   "id": "198e71b7-fe1b-4789-8dcc-95d7355231d0",
   "metadata": {},
   "outputs": [
    {
     "data": {
      "text/plain": [
       "array([0])"
      ]
     },
     "execution_count": 126,
     "metadata": {},
     "output_type": "execute_result"
    }
   ],
   "source": [
    "y_pred[mask]"
   ]
  },
  {
   "cell_type": "code",
   "execution_count": null,
   "id": "0bf8b479-6478-414c-bb18-4cce3ffc6ae8",
   "metadata": {},
   "outputs": [],
   "source": []
  },
  {
   "cell_type": "code",
   "execution_count": 64,
   "id": "ae065d85-c0ff-4e4f-9c20-0442a7546bc6",
   "metadata": {},
   "outputs": [
    {
     "ename": "SyntaxError",
     "evalue": "invalid syntax (1416910477.py, line 3)",
     "output_type": "error",
     "traceback": [
      "\u001b[0;36m  Input \u001b[0;32mIn [64]\u001b[0;36m\u001b[0m\n\u001b[0;31m    pass,\u001b[0m\n\u001b[0m    ^\u001b[0m\n\u001b[0;31mSyntaxError\u001b[0m\u001b[0;31m:\u001b[0m invalid syntax\n"
     ]
    }
   ],
   "source": [
    "np.where(\n",
    "    (y_true == 0) & (y_pred == 0), \n",
    "    pass, \n",
    "    2,\n",
    ")"
   ]
  },
  {
   "cell_type": "code",
   "execution_count": 70,
   "id": "c72c4404-026b-4309-a678-7d46f3a37243",
   "metadata": {},
   "outputs": [
    {
     "data": {
      "text/plain": [
       "array([[False, False, False,  True]])"
      ]
     },
     "execution_count": 70,
     "metadata": {},
     "output_type": "execute_result"
    }
   ],
   "source": [
    "# filter_zero = y_pred == 0\n",
    "# filter_true = y_true == 0\n",
    "\n",
    "filter_eq = (y_pred == y_true) \n",
    "\n",
    "np.array([filter_eq])\n"
   ]
  },
  {
   "cell_type": "code",
   "execution_count": 83,
   "id": "1d278bd2-4140-4244-a4c2-eb3de742df52",
   "metadata": {},
   "outputs": [
    {
     "data": {
      "text/plain": [
       "array([[0, 0]])"
      ]
     },
     "execution_count": 83,
     "metadata": {},
     "output_type": "execute_result"
    }
   ],
   "source": [
    "np.array(np.nonzero(y_pred)) & np.array(np.nonzero(y_true))"
   ]
  },
  {
   "cell_type": "code",
   "execution_count": 75,
   "id": "a6c75aed-7a74-4bd9-bacc-9835052c5e75",
   "metadata": {},
   "outputs": [
    {
     "data": {
      "text/plain": [
       "array([ 0, 11, 10,  0])"
      ]
     },
     "execution_count": 75,
     "metadata": {},
     "output_type": "execute_result"
    }
   ],
   "source": [
    "y_pred"
   ]
  },
  {
   "cell_type": "code",
   "execution_count": 76,
   "id": "2327e4e7-5c53-4513-8efc-851c724829a8",
   "metadata": {},
   "outputs": [
    {
     "data": {
      "text/plain": [
       "(array([0, 1]),)"
      ]
     },
     "execution_count": 76,
     "metadata": {},
     "output_type": "execute_result"
    }
   ],
   "source": [
    "np.nonzero(y_true)"
   ]
  },
  {
   "cell_type": "code",
   "execution_count": 100,
   "id": "f585c660-f9eb-4ec8-a505-14f02711e9af",
   "metadata": {},
   "outputs": [
    {
     "data": {
      "text/plain": [
       "array([10, 10,  0,  0])"
      ]
     },
     "execution_count": 100,
     "metadata": {},
     "output_type": "execute_result"
    }
   ],
   "source": [
    "y_true"
   ]
  },
  {
   "cell_type": "code",
   "execution_count": 84,
   "id": "4eafbaa4-eef4-4901-bb69-3465c7453c0a",
   "metadata": {},
   "outputs": [
    {
     "data": {
      "text/plain": [
       "array([0, 0])"
      ]
     },
     "execution_count": 84,
     "metadata": {},
     "output_type": "execute_result"
    }
   ],
   "source": [
    "condition = y_pred == 0\n",
    "np.extract(condition, y_pred)"
   ]
  },
  {
   "cell_type": "code",
   "execution_count": 99,
   "id": "f67dead7-f284-46bf-b132-638e21714d00",
   "metadata": {},
   "outputs": [
    {
     "data": {
      "text/plain": [
       "array([ 0, 11, 10,  0])"
      ]
     },
     "execution_count": 99,
     "metadata": {},
     "output_type": "execute_result"
    }
   ],
   "source": [
    "y_pred"
   ]
  },
  {
   "cell_type": "code",
   "execution_count": 94,
   "id": "0c216437-cc5b-4d65-8e45-166330c4645b",
   "metadata": {},
   "outputs": [
    {
     "data": {
      "text/plain": [
       "array([[ 0, 10],\n",
       "       [11, 10],\n",
       "       [10,  0],\n",
       "       [ 0,  0]])"
      ]
     },
     "execution_count": 94,
     "metadata": {},
     "output_type": "execute_result"
    }
   ],
   "source": [
    "data = np.array(list((zip(y_pred, y_true))))\n",
    "data"
   ]
  },
  {
   "cell_type": "code",
   "execution_count": 95,
   "id": "6ac02f82-c961-4734-a24b-84aa4b12fa20",
   "metadata": {},
   "outputs": [
    {
     "data": {
      "text/plain": [
       "array([[99, 10],\n",
       "       [11, 10],\n",
       "       [10, 99],\n",
       "       [99, 99]])"
      ]
     },
     "execution_count": 95,
     "metadata": {},
     "output_type": "execute_result"
    }
   ],
   "source": [
    "np.where(\n",
    "    data  == 0,\n",
    "    99,\n",
    "    data\n",
    ")"
   ]
  },
  {
   "cell_type": "code",
   "execution_count": null,
   "id": "8e36ec33-a17b-472b-a2ea-314491287b61",
   "metadata": {},
   "outputs": [
    {
     "data": {
      "text/plain": [
       "array([[ 0, 10],\n",
       "       [11, 10],\n",
       "       [10,  0],\n",
       "       [ 0,  0]])"
      ]
     },
     "execution_count": 101,
     "metadata": {},
     "output_type": "execute_result"
    }
   ],
   "source": []
  },
  {
   "cell_type": "code",
   "execution_count": 103,
   "id": "32dbd800-5177-409a-aa4a-a728c6d4318e",
   "metadata": {},
   "outputs": [
    {
     "data": {
      "text/plain": [
       "(array([ 0, 10]), array([0, 2]), array([2, 0]))"
      ]
     },
     "execution_count": 103,
     "metadata": {},
     "output_type": "execute_result"
    }
   ],
   "source": [
    "np.intersect1d(y_pred, y_true, return_indices=True)"
   ]
  },
  {
   "cell_type": "code",
   "execution_count": null,
   "id": "98cd206d-609b-47c3-bdf3-89ea5c0b30d9",
   "metadata": {},
   "outputs": [],
   "source": []
  },
  {
   "cell_type": "code",
   "execution_count": 105,
   "id": "b2c7c94d-9ec1-436b-b9a2-4d61c059d8f1",
   "metadata": {},
   "outputs": [
    {
     "data": {
      "text/plain": [
       "array([ 0, 11, 10,  0])"
      ]
     },
     "execution_count": 105,
     "metadata": {},
     "output_type": "execute_result"
    }
   ],
   "source": [
    "y_pred"
   ]
  },
  {
   "cell_type": "code",
   "execution_count": null,
   "id": "db39a1b3-e09c-4800-acbb-686e1f7fc882",
   "metadata": {},
   "outputs": [],
   "source": []
  }
 ],
 "metadata": {
  "kernelspec": {
   "display_name": "Python 3 (ipykernel)",
   "language": "python",
   "name": "python3"
  },
  "language_info": {
   "codemirror_mode": {
    "name": "ipython",
    "version": 3
   },
   "file_extension": ".py",
   "mimetype": "text/x-python",
   "name": "python",
   "nbconvert_exporter": "python",
   "pygments_lexer": "ipython3",
   "version": "3.8.2"
  }
 },
 "nbformat": 4,
 "nbformat_minor": 5
}
